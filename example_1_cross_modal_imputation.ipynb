{
 "cells": [
  {
   "cell_type": "markdown",
   "metadata": {},
   "source": [
    "#  Example 1: imputation_between_2_modality"
   ]
  },
  {
   "cell_type": "markdown",
   "metadata": {},
   "source": [
    "Step 1. input_preparation (command line)"
   ]
  },
  {
   "cell_type": "code",
   "execution_count": null,
   "metadata": {},
   "outputs": [],
   "source": [
    "#python 1_input_preparation.py --task=imputation_between_2_modal --inputdata1=data/data_input_preparation/merfish_scRNA_inputdata1.npz --inputdata2=data/data_input_preparation/merfish_Merfish_inputdata2.npz --input_cell_types=data/data_input_preparation/merfish_input_cell_types.npy --num_cell_types=13 --imputation_index=data/data_input_preparation/merfish_imputation_index.npy"
   ]
  },
  {
   "cell_type": "markdown",
   "metadata": {},
   "source": [
    "input and output for step 1"
   ]
  },
  {
   "cell_type": "code",
   "execution_count": null,
   "metadata": {},
   "outputs": [],
   "source": [
    "#Inputs:\n",
    "#inputdata1: the reference dataset with shape (#sample1, #feature)\n",
    "#inputdata2: the dataset that would be impute, with shape (#sample2, #feature1).\n",
    "#input_cell_types: the cell type of each sample, with shape (#sample1+#sample2)\n",
    "#num_cell_types: the number of total cell types (int)\n",
    "#imputation_index: the missing genes in inputdata2, with shape (#feature2)   *#feature = #feature1+#feature2\n",
    "\n",
    "#check input\n",
    "inputdata1 = sparse.load_npz('data/training_data/merfish_scRNA_inputdata1.npz')\n",
    "inputdata1 = inputdata1.todense()\n",
    "print(inputdata1.shape)\n",
    "inputdata2 = sparse.load_npz('data/training_data/merfish_scRNA_inputdata1.npz')\n",
    "inputdata2 = inputdata2.todense()\n",
    "print(inputdata2.shape)\n",
    "input_cell_types = np.load('data/training_data/merfish_scRNA_inputdata1.npz')\n",
    "imputation_index = np.load('data/training_data/merfish_scRNA_inputdata1.npz')\n",
    "print(input_cell_types.shape)\n",
    "print(imputation_index.shape)\n",
    "\n",
    "#Outputs:\n",
    "#inputdata: imputation_input_data.npz\n",
    "#input_covariates: imputation_input_covariates\n",
    "#inputcelltype: imputation_input_cell_types\n",
    "#input_mask: imputation_input_mask.npz\n",
    "#output_mask: imputation_output_mask.npz\n",
    "\n"
   ]
  },
  {
   "cell_type": "markdown",
   "metadata": {},
   "source": [
    "Step 2. training inClust+ (command line)"
   ]
  },
  {
   "cell_type": "code",
   "execution_count": null,
   "metadata": {},
   "outputs": [],
   "source": [
    "#python 2_inClust+.py --task=imputation --last_activation=sigmoid --inputdata=data/training_data/imputation_input_data.npz --input_covariates=data/training_data/imputation_input_covariates.npy --inputcelltype=data/training_data/imputation_input_cell_types.npy --input_mask=data/training_data/imputation_input_mask.npz --output_mask=data/training_data/imputation_output_mask.npz"
   ]
  },
  {
   "cell_type": "markdown",
   "metadata": {},
   "source": [
    "input and output for step 2"
   ]
  },
  {
   "cell_type": "code",
   "execution_count": null,
   "metadata": {},
   "outputs": [],
   "source": [
    "\n",
    "#Inputs:\n",
    "#inputdata: imputation_input_data.npz\n",
    "#input_covariates: imputation_input_covariates\n",
    "#inputcelltype: imputation_input_cell_types\n",
    "#input_mask: imputation_input_mask.npz\n",
    "#output_mask: imputation_output_mask.npz\n",
    "\n",
    "#Outputs:\n",
    "#training.weight\n",
    "\n"
   ]
  },
  {
   "cell_type": "markdown",
   "metadata": {},
   "source": [
    "Step 3_1. get results part 1 (command line)"
   ]
  },
  {
   "cell_type": "code",
   "execution_count": null,
   "metadata": {},
   "outputs": [],
   "source": [
    "#python 2_inClust+.py --task=imputation --last_activation=sigmoid --inputdata=data/training_data/imputation_input_data.npz --input_covariates=data/training_data/imputation_input_covariates.npy --inputcelltype=data/training_data/imputation_input_cell_types.npy --input_mask=data/training_data/imputation_input_mask.npz --output_mask=data/training_data/imputation_output_mask.npz --training=F --weights=results/training.weight"
   ]
  },
  {
   "cell_type": "markdown",
   "metadata": {},
   "source": [
    "input and output for step 3_1"
   ]
  },
  {
   "cell_type": "code",
   "execution_count": null,
   "metadata": {},
   "outputs": [],
   "source": [
    "#Inputs:\n",
    "#inputdata: imputation_input_data.npz\n",
    "#input_covariates: imputation_input_covariates\n",
    "#inputcelltype: imputation_input_cell_types\n",
    "#input_mask: imputation_input_mask.npz\n",
    "#output_mask: imputation_output_mask.npz\n",
    "#weights: training.weight\n",
    "\n",
    "#Outputs:\n",
    "#Low_dimnesion_vector.npy  \n",
    "#reconstruction.npy\n",
    "\n"
   ]
  },
  {
   "cell_type": "markdown",
   "metadata": {},
   "source": [
    "Step 3_2. get results part 2 (command line)"
   ]
  },
  {
   "cell_type": "code",
   "execution_count": null,
   "metadata": {},
   "outputs": [],
   "source": [
    "#python 3_Get_results.py --task=imputation_between_2_modal --Low_rank_vector=results/Low_dimension_vector.npy --Reconstruction=results/reconstruction.npy --imputation_index=data/data_input_preparation/merfish_imputation_index.npy"
   ]
  },
  {
   "cell_type": "markdown",
   "metadata": {},
   "source": [
    "input and output for step 3_2"
   ]
  },
  {
   "cell_type": "code",
   "execution_count": null,
   "metadata": {},
   "outputs": [],
   "source": [
    "#Inputs:\n",
    "#Low_rank_vector: Low_dimnesion_vector.npy\n",
    "#Reconstruction: reconstruction.npy\n",
    "#imputation_index: merfish_imputation_index.npy\n",
    "\n",
    "#Outputs:\n",
    "#imputation_results.npy\n",
    "#imputation_Low_dimnesion_vector.npy"
   ]
  }
 ],
 "metadata": {},
 "nbformat": 4,
 "nbformat_minor": 0
}
