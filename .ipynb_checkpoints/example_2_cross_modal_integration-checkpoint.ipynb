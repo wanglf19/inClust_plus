{
 "cells": [
  {
   "cell_type": "markdown",
   "metadata": {},
   "source": [
    "#  Example 2: integration_data_with_triple_modality"
   ]
  },
  {
   "cell_type": "markdown",
   "metadata": {},
   "source": [
    "Step 1. input_preparation (command line)"
   ]
  },
  {
   "cell_type": "code",
   "execution_count": null,
   "metadata": {},
   "outputs": [],
   "source": [
    "#python 1_input_preparation.py --task=integration_data_with_triple_modality --inputdata1=data/data_input_preparation/integration_input1.npz --inputdata2=data/data_input_preparation/integration_input2.npz --inputdata3=data/data_input_preparation/integration_input3.npz --inputdata4=data/data_input_preparation/integration_input4.npz --input_cell_types=data/data_input_preparation/integration_label.npy --num_cell_types=7\n"
   ]
  },
  {
   "cell_type": "markdown",
   "metadata": {},
   "source": [
    "input and output for step 1"
   ]
  },
  {
   "cell_type": "code",
   "execution_count": null,
   "metadata": {},
   "outputs": [],
   "source": [
    "#Inputs:\n",
    "#inputdata1: data of modality 1 from paired dataset 1, with shape (#sample1, #feature1)\n",
    "#inputdata2: data of modality 2 from paired dataset 1, with shape (#sample1, #feature2)\n",
    "#inputdata3: data of modality 2 from paired dataset 2, with shape (#sample2, #feature2)\n",
    "#inputdata4: data of modality 3 from paired dataset 2, with shape (#sample2, #feature3)\n",
    "#input_cell_types: the cell type of each sample, with shape (#sample1+#sample2)\n",
    "#num_cell_types: the number of total cell types (int)\n",
    "\n",
    "#check inputs\n",
    "inputdata1 = sparse.load_npz('data/training_data/integration_input1.npz')\n",
    "inputdata1 = inputdata1.todense()\n",
    "print(inputdata1.shape)  \n",
    "inputdata2 = sparse.load_npz('data/training_data/integration_input2.npz')\n",
    "inputdata2 = inputdata2.todense()\n",
    "print(inputdata2.shape) \n",
    "inputdata3 = sparse.load_npz('data/training_data/integration_input3.npz')\n",
    "inputdata3 = inputdata3.todense()\n",
    "print(inputdata3.shape) \n",
    "inputdata4 = sparse.load_npz('data/training_data/integration_input4.npz')\n",
    "inputdata4 = inputdata4.todense()\n",
    "print(inputdata4.shape) \n",
    "input_cell_types = np.load('data/data_input_preparation/integration_label.npy')\n",
    "print(input_cell_types.shape)\n",
    "\n",
    "#Outputs:\n",
    "#inputdata: integration_input_data.npz\n",
    "#input_covariates: integration_input_covariates\n",
    "#inputcelltype: integration_input_cell_types\n",
    "#input_mask: integration_input_mask.npz\n",
    "#output_mask: integration_output_mask.npz\n",
    "\n"
   ]
  },
  {
   "cell_type": "markdown",
   "metadata": {},
   "source": [
    "Step 2. training inClust+ (command line)"
   ]
  },
  {
   "cell_type": "code",
   "execution_count": null,
   "metadata": {},
   "outputs": [],
   "source": [
    "#python inClust+.py --inputdata=data/training_data/integration_input_data.npz --input_covariates=data/training_data/integration_input_covariates.npy --inputcelltype=data/training_data/integration_input_cell_types.npy --input_mask=data/training_data/integration_input_mask.npz --output_mask=data/training_data/integration_output_mask.npz\n"
   ]
  },
  {
   "cell_type": "markdown",
   "metadata": {},
   "source": [
    "input and output for step 2"
   ]
  },
  {
   "cell_type": "code",
   "execution_count": null,
   "metadata": {},
   "outputs": [],
   "source": [
    "\n",
    "#Inputs:\n",
    "#inputdata: integration_input_data.npz\n",
    "#input_covariates: integration_input_covariates\n",
    "#inputcelltype: integration_input_cell_types\n",
    "#input_mask: integration_input_mask.npz\n",
    "#output_mask: integration_output_mask.npz\n",
    "\n",
    "#Outputs:\n",
    "#training.weight\n",
    "\n"
   ]
  },
  {
   "cell_type": "markdown",
   "metadata": {},
   "source": [
    "Step 3_1. get results part 1 (command line)"
   ]
  },
  {
   "cell_type": "code",
   "execution_count": null,
   "metadata": {},
   "outputs": [],
   "source": [
    "#python inClust+.py --inputdata=data/training_data/integration_input_data.npz --input_covariates=data/training_data/integration_input_covariates.npy --inputcelltype=data/training_data/integration_input_cell_types.npy --input_mask=data/training_data/integration_input_mask.npz --output_mask=data/training_data/integration_output_mask.npz --training=F --weights=results/training.weight\n"
   ]
  },
  {
   "cell_type": "markdown",
   "metadata": {},
   "source": [
    "input and output for step 3_1"
   ]
  },
  {
   "cell_type": "code",
   "execution_count": null,
   "metadata": {},
   "outputs": [],
   "source": [
    "#Inputs:\n",
    "#inputdata: integration_input_data.npz\n",
    "#input_covariates: integration_input_covariates\n",
    "#inputcelltype: integration_input_cell_types\n",
    "#input_mask: integration_input_mask.npz\n",
    "#output_mask: integration_output_mask.npz\n",
    "#weights: training.weight\n",
    "\n",
    "#Outputs:\n",
    "#Low_dimnesion_vector.npy  \n",
    "#output_imputation.npy\n",
    "\n"
   ]
  },
  {
   "cell_type": "markdown",
   "metadata": {},
   "source": [
    "Step 3_2. get results part 2 (command line)"
   ]
  },
  {
   "cell_type": "code",
   "execution_count": null,
   "metadata": {},
   "outputs": [],
   "source": [
    "#python Get_results.py --task=integration_data_with_triple_modality --Low_rank_vector=data/results/Low_dimnesion_vector.npy --Reconstruction=data/results/reconstruction.npy --imputation_index=data/training_data/merfish_imputation_index.npy\n"
   ]
  },
  {
   "cell_type": "markdown",
   "metadata": {},
   "source": [
    "input and output for step 3_2"
   ]
  },
  {
   "cell_type": "code",
   "execution_count": null,
   "metadata": {},
   "outputs": [],
   "source": [
    "#Inputs:\n",
    "#Low_rank_vector: Low_dimnesion_vector.npy\n",
    "#inputdata1_size = int\n",
    "#inputdata2_size = int\n",
    "\n",
    "#Outputs:\n",
    "#integration_Low_dimnesion_vector.npy"
   ]
  }
 ],
 "metadata": {
  "kernelspec": {
   "display_name": "Python 3",
   "language": "python",
   "name": "python3"
  },
  "language_info": {
   "codemirror_mode": {
    "name": "ipython",
    "version": 3
   },
   "file_extension": ".py",
   "mimetype": "text/x-python",
   "name": "python",
   "nbconvert_exporter": "python",
   "pygments_lexer": "ipython3",
   "version": "3.6.4"
  }
 },
 "nbformat": 4,
 "nbformat_minor": 1
}
