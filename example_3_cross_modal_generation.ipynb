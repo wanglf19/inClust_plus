{
 "cells": [
  {
   "cell_type": "markdown",
   "metadata": {},
   "source": [
    "#  Example 3: cross_modal_generation"
   ]
  },
  {
   "cell_type": "markdown",
   "metadata": {},
   "source": [
    "Step 1. input_preparation (command line)"
   ]
  },
  {
   "cell_type": "code",
   "execution_count": null,
   "metadata": {},
   "outputs": [],
   "source": [
    "#python 1_input_preparation.py --task=cross_modal_generation --inputdata1=data/data_input_preparation/generation_data1.npz --inputdata2=data/data_input_preparation/generation_data2.npz --inputdata3=data/data_input_preparation/generation_data3.npz --input_covariates=data/data_input_preparation/generation_batch.npy --input_cell_types=data/data_input_preparation/generation_label.npy --num_cell_types=30\n"
   ]
  },
  {
   "cell_type": "markdown",
   "metadata": {},
   "source": [
    "input and output for step 1"
   ]
  },
  {
   "cell_type": "code",
   "execution_count": null,
   "metadata": {},
   "outputs": [],
   "source": [
    "#Inputs:\n",
    "#inputdata1: data of modality 1 from paired dataset 1, with shape (#sample1, #feature1)\n",
    "#inputdata2: data of modality 2 from paired dataset 1, with shape (#sample1, #feature2)\n",
    "#inputdata3: data of modality 1 from paired dataset 2, with shape (#sample2, #feature1)\n",
    "#input_cell_types: the cell type of each sample, with shape (#sample1+#sample2)\n",
    "#num_cell_types: the number of total cell types (int)\n",
    "#input_covariates: the batch for inputdata1 and inputdata2\n",
    "\n",
    "#check inputs\n",
    "inputdata1 = sparse.load_npz('data/training_data/generation_data1.npz')\n",
    "inputdata1 = inputdata1.todense()\n",
    "print(inputdata1.shape) \n",
    "inputdata2 = sparse.load_npz('data/training_data/generation_data2.npz')\n",
    "inputdata2 = inputdata2.todense()\n",
    "print(inputdata2.shape)\n",
    "inputdata3 = sparse.load_npz('data/training_data/generation_data3.npz')\n",
    "inputdata3 = inputdata3.todense()\n",
    "print(inputdata3.shape) \n",
    "input_cell_types = np.load('data/training_data/generation_label.npy')\n",
    "input_covariates = np.load('data/training_data/generation_batch.npy')\n",
    "print(input_cell_types.shape)\n",
    "print(input_covariates.shape)\n",
    "\n",
    "#Outputs:\n",
    "#inputdata: generation_input_data.npz\n",
    "#input_covariates: generation_input_covariates\n",
    "#inputcelltype: generation_input_cell_types\n",
    "#input_mask: generation_input_mask.npz\n",
    "#output_mask: generation_output_mask.npz\n",
    "\n"
   ]
  },
  {
   "cell_type": "markdown",
   "metadata": {},
   "source": [
    "Step 2. training inClust+ (command line)"
   ]
  },
  {
   "cell_type": "code",
   "execution_count": null,
   "metadata": {},
   "outputs": [],
   "source": [
    "#python inClust+.py --inputdata=data/training_data/generation_input_data.npz --input_covariates=data/training_data/generation_input_covariates.npy --inputcelltype=data/training_data/generation_input_cell_types.npy --input_mask=data/training_data/generation_input_mask.npz --output_mask=data/training_data/generation_output_mask.npz\n"
   ]
  },
  {
   "cell_type": "markdown",
   "metadata": {},
   "source": [
    "input and output for step 2"
   ]
  },
  {
   "cell_type": "code",
   "execution_count": null,
   "metadata": {},
   "outputs": [],
   "source": [
    "\n",
    "#Inputs:\n",
    "#inputdata: generation_input_data.npz\n",
    "#input_covariates: generation_input_covariates\n",
    "#inputcelltype: generation_input_cell_types\n",
    "#input_mask: generation_input_mask.npz\n",
    "#output_mask: generation_output_mask.npz\n",
    "\n",
    "#Outputs:\n",
    "#training.weight\n"
   ]
  },
  {
   "cell_type": "markdown",
   "metadata": {},
   "source": [
    "Step 3_1. get results part 1 (command line)"
   ]
  },
  {
   "cell_type": "code",
   "execution_count": null,
   "metadata": {},
   "outputs": [],
   "source": [
    "#python inClust+.py --task=generation --inputdata=data/training_data/generation_input_data.npz --input_covariates=data/training_data/generation_input_covariates.npy --inputcelltype=data/training_data/generation_input_cell_types.npy --input_mask=data/training_data/generation_input_mask.npz --output_mask=data/training_data/generation_output_mask.npz --training=F --weights=results/training.weight\n"
   ]
  },
  {
   "cell_type": "markdown",
   "metadata": {},
   "source": [
    "input and output for step 3_1"
   ]
  },
  {
   "cell_type": "code",
   "execution_count": null,
   "metadata": {},
   "outputs": [],
   "source": [
    "#Inputs:\n",
    "#inputdata: imputation_input_data.npz\n",
    "#input_covariates: imputation_input_covariates\n",
    "#inputcelltype: imputation_input_cell_types\n",
    "#input_mask: imputation_input_mask.npz\n",
    "#output_mask: imputation_output_mask.npz\n",
    "#weights: training.weight\n",
    "\n",
    "#Outputs:\n",
    "#Low_dimnesion_vector.npy  \n",
    "#reconstruction.npy\n",
    "#generation_predict_labels.npy\n"
   ]
  },
  {
   "cell_type": "markdown",
   "metadata": {},
   "source": [
    "Step 3_2. get results part 2 (command line)"
   ]
  },
  {
   "cell_type": "code",
   "execution_count": null,
   "metadata": {},
   "outputs": [],
   "source": [
    "#python Get_results.py --task=cross_modal_generation --Low_rank_vector=data/results/Low_dimnesion_vector.npy --Reconstruction=data/results/reconstruction.npy --input_feature_size = 224"
   ]
  },
  {
   "cell_type": "markdown",
   "metadata": {},
   "source": [
    "input and output for step 3_2"
   ]
  },
  {
   "cell_type": "code",
   "execution_count": null,
   "metadata": {},
   "outputs": [],
   "source": [
    "#Inputs:\n",
    "#Low_rank_vector: Low_dimnesion_vector.npy\n",
    "#Reconstruction: reconstruction.npy\n",
    "#input_feature_size: int\n",
    "\n",
    "#Outputs:\n",
    "#generation_results.npy\n"
   ]
  }
 ],
 "metadata": {},
 "nbformat": 4,
 "nbformat_minor": 0
}
